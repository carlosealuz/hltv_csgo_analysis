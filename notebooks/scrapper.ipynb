{
 "cells": [
  {
   "cell_type": "code",
   "execution_count": 10,
   "metadata": {},
   "outputs": [],
   "source": [
    "import json\n",
    "from selenium import webdriver\n",
    "from selenium.webdriver.common.keys import Keys\n",
    "from selenium.webdriver.common.by import By\n",
    "from selenium.common.exceptions import StaleElementReferenceException\n",
    "import pandas as pd\n",
    "import time"
   ]
  },
  {
   "cell_type": "code",
   "execution_count": 5,
   "metadata": {},
   "outputs": [
    {
     "name": "stderr",
     "output_type": "stream",
     "text": [
      "C:\\Anaconda\\envs\\csgo\\lib\\site-packages\\ipykernel_launcher.py:1: DeprecationWarning: executable_path has been deprecated, please pass in a Service object\n",
      "  \"\"\"Entry point for launching an IPython kernel.\n"
     ]
    }
   ],
   "source": [
    "\n",
    "driver = webdriver.Chrome(executable_path='../chromedriver/chromedriver.exe')\n",
    "driver.get('https://www.hltv.org/ranking/teams/')"
   ]
  },
  {
   "cell_type": "code",
   "execution_count": 6,
   "metadata": {},
   "outputs": [
    {
     "name": "stderr",
     "output_type": "stream",
     "text": [
      "C:\\Anaconda\\envs\\csgo\\lib\\site-packages\\ipykernel_launcher.py:1: DeprecationWarning: find_element_by_* commands are deprecated. Please use find_element() instead\n",
      "  \"\"\"Entry point for launching an IPython kernel.\n"
     ]
    }
   ],
   "source": [
    "driver.find_element_by_xpath('/html/body/div[3]/div[1]/div[2]/div[1]/div[3]/div[1]/div[3]/div/div[1]').click()"
   ]
  },
  {
   "cell_type": "code",
   "execution_count": 7,
   "metadata": {},
   "outputs": [
    {
     "name": "stderr",
     "output_type": "stream",
     "text": [
      "C:\\Anaconda\\envs\\csgo\\lib\\site-packages\\ipykernel_launcher.py:1: DeprecationWarning: find_element_by_* commands are deprecated. Please use find_element() instead\n",
      "  \"\"\"Entry point for launching an IPython kernel.\n"
     ]
    }
   ],
   "source": [
    "ranking = driver.find_element_by_xpath('/html/body/div[3]/div/div[2]/div[1]/div[3]').text.split('\\n')"
   ]
  },
  {
   "cell_type": "code",
   "execution_count": 5,
   "metadata": {},
   "outputs": [],
   "source": [
    "ranking_date = [ranking[1]]\n",
    "positions = []\n",
    "teams = []\n",
    "players = []\n",
    "\n",
    "for i in ranking:\n",
    "    if i.startswith('#'):\n",
    "        item_index = ranking.index(i)\n",
    "        positions.append([i])\n",
    "        teams.append([ranking[item_index+1]])\n",
    "        players.append([ranking[item_index+2]])\n",
    "    if len(positions)==3:\n",
    "        break"
   ]
  },
  {
   "cell_type": "code",
   "execution_count": 6,
   "metadata": {},
   "outputs": [
    {
     "name": "stdout",
     "output_type": "stream",
     "text": [
      "['CS:GO World ranking on November 1st, 2021'] [['#1'], ['#2'], ['#3']] [['Natus Vincere(977 points)'], ['NIP(657 points)'], ['Vitality(651 points)']] [['s1mple electronic Boombl4 Perfecto B1T'], ['device REZ hampus Plopski LNZ'], ['shox apEX ZywOo misutaaa Kyojin']]\n"
     ]
    }
   ],
   "source": [
    "print(ranking_date, positions, teams, players)"
   ]
  },
  {
   "cell_type": "code",
   "execution_count": 25,
   "metadata": {},
   "outputs": [
    {
     "name": "stderr",
     "output_type": "stream",
     "text": [
      "C:\\Users\\Carlos\\anaconda3\\envs\\csgo\\lib\\site-packages\\ipykernel_launcher.py:6: DeprecationWarning: find_elements_by_* commands are deprecated. Please use find_elements() instead\n",
      "  \n"
     ]
    },
    {
     "name": "stdout",
     "output_type": "stream",
     "text": [
      "1\n",
      "1\n",
      "1\n",
      "1\n",
      "1\n",
      "1\n",
      "1\n",
      "1\n",
      "November\n",
      "1\n",
      "1\n",
      "1\n",
      "1\n",
      "1\n",
      "1\n",
      "1\n",
      "1\n",
      "1\n",
      "1\n",
      "1\n"
     ]
    }
   ],
   "source": [
    "\n",
    "\n",
    "months = ['January', 'February', 'March', 'April', 'May', 'June', 'July', 'August', 'September', 'October', 'November', 'December']\n",
    "years = ['2021', '2020', '2019', '2018', '2017', '2016', '2015']\n",
    "years_months_links = driver.find_elements_by_class_name('sidebar-single-line-item')\n",
    "\n",
    "months_scrapped = []\n",
    "years_scrapped = []\n",
    "\n",
    "full_data = []\n",
    "\n",
    "for i in years_months_links:\n",
    "    print(1)\n",
    "    try:\n",
    "        if i.text in months and i.text not in months_scrapped:\n",
    "            print(i.text)\n",
    "            months_scrapped.append(i.text)\n",
    "            i.click()\n",
    "            time.sleep(2)\n",
    "            driver.find_element(By.CLASS_NAME, 'ranking-header').click()\n",
    "            ranking = driver.find_element(By.CLASS_NAME,'ranking').text.split('\\n')\n",
    "            ranking_date = [ranking[1]]\n",
    "            positions = []\n",
    "            teams = []\n",
    "            players = []\n",
    "\n",
    "            for i in ranking:\n",
    "                if i.startswith('#'):\n",
    "                    item_index = ranking.index(i)\n",
    "                    positions.append([i])\n",
    "                    teams.append([ranking[item_index+1]])\n",
    "                    players.append([ranking[item_index+2]])\n",
    "            full_data.extend([ranking_date * len(teams), positions, teams, players])\n",
    "    except:\n",
    "        pass"
   ]
  },
  {
   "cell_type": "code",
   "execution_count": 55,
   "metadata": {},
   "outputs": [
    {
     "name": "stdout",
     "output_type": "stream",
     "text": [
      "Scrapping 2021-November\n",
      "Scrapping 2021-October\n",
      "Scrapping 2021-September\n",
      "Scrapping 2021-August\n",
      "Scrapping 2021-July\n",
      "Scrapping 2021-June\n",
      "Scrapping 2021-May\n",
      "Scrapping 2021-April\n",
      "Scrapping 2021-March\n",
      "Scrapping 2021-February\n",
      "Scrapping 2021-January\n",
      "Scrapping 2020-December\n",
      "Scrapping 2020-November\n",
      "Scrapping 2020-October\n",
      "Scrapping 2020-September\n",
      "Scrapping 2020-August\n",
      "Scrapping 2020-July\n",
      "Scrapping 2020-June\n",
      "Scrapping 2020-May\n",
      "Scrapping 2020-April\n",
      "Scrapping 2020-March\n",
      "Scrapping 2020-February\n",
      "Scrapping 2020-January\n",
      "Scrapping 2019-December\n",
      "Scrapping 2019-November\n",
      "Scrapping 2019-October\n",
      "Scrapping 2019-September\n",
      "Scrapping 2019-August\n",
      "Scrapping 2019-July\n",
      "Scrapping 2019-June\n",
      "Scrapping 2019-May\n",
      "Scrapping 2019-April\n",
      "Scrapping 2019-March\n",
      "Scrapping 2019-February\n",
      "Scrapping 2019-January\n",
      "Scrapping 2018-December\n",
      "Scrapping 2018-November\n",
      "Scrapping 2018-October\n",
      "Scrapping 2018-September\n",
      "Scrapping 2018-August\n",
      "Scrapping 2018-July\n",
      "Scrapping 2018-June\n",
      "Scrapping 2018-May\n",
      "Scrapping 2018-April\n",
      "Scrapping 2018-March\n",
      "Scrapping 2018-February\n",
      "Scrapping 2018-January\n",
      "Scrapping 2017-December\n",
      "Scrapping 2017-November\n",
      "Scrapping 2017-October\n",
      "Scrapping 2017-September\n",
      "Scrapping 2017-August\n",
      "Scrapping 2017-July\n",
      "Scrapping 2017-June\n",
      "Scrapping 2017-May\n",
      "Scrapping 2017-April\n",
      "Scrapping 2017-March\n",
      "Scrapping 2017-February\n",
      "Scrapping 2017-January\n",
      "Scrapping 2016-December\n",
      "Scrapping 2016-November\n",
      "Scrapping 2016-October\n",
      "Scrapping 2016-September\n",
      "Scrapping 2016-August\n",
      "Scrapping 2016-July\n",
      "Scrapping 2016-June\n",
      "Scrapping 2016-May\n",
      "Scrapping 2016-April\n",
      "Scrapping 2016-March\n",
      "Scrapping 2016-February\n",
      "Scrapping 2016-January\n",
      "Scrapping 2015-December\n",
      "Scrapping 2015-November\n",
      "Scrapping 2015-October\n"
     ]
    },
    {
     "ename": "FileNotFoundError",
     "evalue": "[Errno 2] No such file or directory: 'data/ranking_raw.csv'",
     "output_type": "error",
     "traceback": [
      "\u001b[1;31m---------------------------------------------------------------------------\u001b[0m",
      "\u001b[1;31mFileNotFoundError\u001b[0m                         Traceback (most recent call last)",
      "\u001b[1;32mC:\\Users\\CARLOS~1\\AppData\\Local\\Temp/ipykernel_17832/2116135804.py\u001b[0m in \u001b[0;36m<module>\u001b[1;34m\u001b[0m\n\u001b[0;32m     30\u001b[0m         \u001b[0mdf\u001b[0m \u001b[1;33m=\u001b[0m \u001b[0mpd\u001b[0m\u001b[1;33m.\u001b[0m\u001b[0mconcat\u001b[0m\u001b[1;33m(\u001b[0m\u001b[1;33m[\u001b[0m\u001b[0mdf\u001b[0m\u001b[1;33m,\u001b[0m \u001b[0mmonth_df\u001b[0m\u001b[1;33m]\u001b[0m\u001b[1;33m)\u001b[0m\u001b[1;33m\u001b[0m\u001b[1;33m\u001b[0m\u001b[0m\n\u001b[0;32m     31\u001b[0m \u001b[1;33m\u001b[0m\u001b[0m\n\u001b[1;32m---> 32\u001b[1;33m \u001b[0mdf\u001b[0m\u001b[1;33m.\u001b[0m\u001b[0mto_csv\u001b[0m\u001b[1;33m(\u001b[0m\u001b[1;34m'data/ranking_raw.csv'\u001b[0m\u001b[1;33m,\u001b[0m \u001b[0mindex\u001b[0m\u001b[1;33m=\u001b[0m\u001b[1;32mFalse\u001b[0m\u001b[1;33m)\u001b[0m\u001b[1;33m\u001b[0m\u001b[1;33m\u001b[0m\u001b[0m\n\u001b[0m",
      "\u001b[1;32mC:\\Anaconda\\envs\\csgo\\lib\\site-packages\\pandas\\core\\generic.py\u001b[0m in \u001b[0;36mto_csv\u001b[1;34m(self, path_or_buf, sep, na_rep, float_format, columns, header, index, index_label, mode, encoding, compression, quoting, quotechar, line_terminator, chunksize, date_format, doublequote, escapechar, decimal, errors, storage_options)\u001b[0m\n\u001b[0;32m   3480\u001b[0m             \u001b[0mdoublequote\u001b[0m\u001b[1;33m=\u001b[0m\u001b[0mdoublequote\u001b[0m\u001b[1;33m,\u001b[0m\u001b[1;33m\u001b[0m\u001b[1;33m\u001b[0m\u001b[0m\n\u001b[0;32m   3481\u001b[0m             \u001b[0mescapechar\u001b[0m\u001b[1;33m=\u001b[0m\u001b[0mescapechar\u001b[0m\u001b[1;33m,\u001b[0m\u001b[1;33m\u001b[0m\u001b[1;33m\u001b[0m\u001b[0m\n\u001b[1;32m-> 3482\u001b[1;33m             \u001b[0mstorage_options\u001b[0m\u001b[1;33m=\u001b[0m\u001b[0mstorage_options\u001b[0m\u001b[1;33m,\u001b[0m\u001b[1;33m\u001b[0m\u001b[1;33m\u001b[0m\u001b[0m\n\u001b[0m\u001b[0;32m   3483\u001b[0m         )\n\u001b[0;32m   3484\u001b[0m \u001b[1;33m\u001b[0m\u001b[0m\n",
      "\u001b[1;32mC:\\Anaconda\\envs\\csgo\\lib\\site-packages\\pandas\\io\\formats\\format.py\u001b[0m in \u001b[0;36mto_csv\u001b[1;34m(self, path_or_buf, encoding, sep, columns, index_label, mode, compression, quoting, quotechar, line_terminator, chunksize, date_format, doublequote, escapechar, errors, storage_options)\u001b[0m\n\u001b[0;32m   1103\u001b[0m             \u001b[0mformatter\u001b[0m\u001b[1;33m=\u001b[0m\u001b[0mself\u001b[0m\u001b[1;33m.\u001b[0m\u001b[0mfmt\u001b[0m\u001b[1;33m,\u001b[0m\u001b[1;33m\u001b[0m\u001b[1;33m\u001b[0m\u001b[0m\n\u001b[0;32m   1104\u001b[0m         )\n\u001b[1;32m-> 1105\u001b[1;33m         \u001b[0mcsv_formatter\u001b[0m\u001b[1;33m.\u001b[0m\u001b[0msave\u001b[0m\u001b[1;33m(\u001b[0m\u001b[1;33m)\u001b[0m\u001b[1;33m\u001b[0m\u001b[1;33m\u001b[0m\u001b[0m\n\u001b[0m\u001b[0;32m   1106\u001b[0m \u001b[1;33m\u001b[0m\u001b[0m\n\u001b[0;32m   1107\u001b[0m         \u001b[1;32mif\u001b[0m \u001b[0mcreated_buffer\u001b[0m\u001b[1;33m:\u001b[0m\u001b[1;33m\u001b[0m\u001b[1;33m\u001b[0m\u001b[0m\n",
      "\u001b[1;32mC:\\Anaconda\\envs\\csgo\\lib\\site-packages\\pandas\\io\\formats\\csvs.py\u001b[0m in \u001b[0;36msave\u001b[1;34m(self)\u001b[0m\n\u001b[0;32m    241\u001b[0m             \u001b[0merrors\u001b[0m\u001b[1;33m=\u001b[0m\u001b[0mself\u001b[0m\u001b[1;33m.\u001b[0m\u001b[0merrors\u001b[0m\u001b[1;33m,\u001b[0m\u001b[1;33m\u001b[0m\u001b[1;33m\u001b[0m\u001b[0m\n\u001b[0;32m    242\u001b[0m             \u001b[0mcompression\u001b[0m\u001b[1;33m=\u001b[0m\u001b[0mself\u001b[0m\u001b[1;33m.\u001b[0m\u001b[0mcompression\u001b[0m\u001b[1;33m,\u001b[0m\u001b[1;33m\u001b[0m\u001b[1;33m\u001b[0m\u001b[0m\n\u001b[1;32m--> 243\u001b[1;33m             \u001b[0mstorage_options\u001b[0m\u001b[1;33m=\u001b[0m\u001b[0mself\u001b[0m\u001b[1;33m.\u001b[0m\u001b[0mstorage_options\u001b[0m\u001b[1;33m,\u001b[0m\u001b[1;33m\u001b[0m\u001b[1;33m\u001b[0m\u001b[0m\n\u001b[0m\u001b[0;32m    244\u001b[0m         ) as handles:\n\u001b[0;32m    245\u001b[0m \u001b[1;33m\u001b[0m\u001b[0m\n",
      "\u001b[1;32mC:\\Anaconda\\envs\\csgo\\lib\\site-packages\\pandas\\io\\common.py\u001b[0m in \u001b[0;36mget_handle\u001b[1;34m(path_or_buf, mode, encoding, compression, memory_map, is_text, errors, storage_options)\u001b[0m\n\u001b[0;32m    705\u001b[0m                 \u001b[0mencoding\u001b[0m\u001b[1;33m=\u001b[0m\u001b[0mioargs\u001b[0m\u001b[1;33m.\u001b[0m\u001b[0mencoding\u001b[0m\u001b[1;33m,\u001b[0m\u001b[1;33m\u001b[0m\u001b[1;33m\u001b[0m\u001b[0m\n\u001b[0;32m    706\u001b[0m                 \u001b[0merrors\u001b[0m\u001b[1;33m=\u001b[0m\u001b[0merrors\u001b[0m\u001b[1;33m,\u001b[0m\u001b[1;33m\u001b[0m\u001b[1;33m\u001b[0m\u001b[0m\n\u001b[1;32m--> 707\u001b[1;33m                 \u001b[0mnewline\u001b[0m\u001b[1;33m=\u001b[0m\u001b[1;34m\"\"\u001b[0m\u001b[1;33m,\u001b[0m\u001b[1;33m\u001b[0m\u001b[1;33m\u001b[0m\u001b[0m\n\u001b[0m\u001b[0;32m    708\u001b[0m             )\n\u001b[0;32m    709\u001b[0m         \u001b[1;32melse\u001b[0m\u001b[1;33m:\u001b[0m\u001b[1;33m\u001b[0m\u001b[1;33m\u001b[0m\u001b[0m\n",
      "\u001b[1;31mFileNotFoundError\u001b[0m: [Errno 2] No such file or directory: 'data/ranking_raw.csv'"
     ]
    }
   ],
   "source": [
    "years = driver.find_elements(By.CLASS_NAME,'filter-column-content  ')[0].text.split('\\n')\n",
    "\n",
    "full_data = []\n",
    "df = pd.DataFrame(columns=['Date', 'Position', 'Teams', 'Players'])\n",
    "for year in years:\n",
    "    driver.find_element(By.PARTIAL_LINK_TEXT, year).click()\n",
    "    months = driver.find_elements(By.CLASS_NAME,'filter-column-content  ')[1].text.split('\\n')\n",
    "    months_scrapped = []\n",
    "    for month in months:\n",
    "        if month in months and month not in months_scrapped:\n",
    "            print('Scrapping {}-{}'.format(year, month))\n",
    "            months_scrapped.append(month)\n",
    "            driver.find_element(By.PARTIAL_LINK_TEXT, month).click()\n",
    "            time.sleep(2)\n",
    "            driver.find_element(By.CLASS_NAME, 'ranking-header').click()\n",
    "            ranking = driver.find_element(By.CLASS_NAME,'ranking').text.split('\\n')\n",
    "            ranking_date = [ranking[1]]\n",
    "            positions = []\n",
    "            teams = []\n",
    "            players = []\n",
    "\n",
    "            for i in ranking:\n",
    "                if i.startswith('#'):\n",
    "                    item_index = ranking.index(i)\n",
    "                    positions.append(i)\n",
    "                    teams.append(ranking[item_index+1])\n",
    "                    players.append(ranking[item_index+2])\n",
    "            month_df = pd.DataFrame([ranking_date * len(teams), positions, teams, players]).T\n",
    "            month_df.columns = ['Date', 'Position', 'Teams', 'Players']\n",
    "        df = pd.concat([df, month_df])\n",
    "\n",
    "df.to_csv('../data/ranking_raw.csv', index=False)\n"
   ]
  },
  {
   "cell_type": "code",
   "execution_count": 56,
   "metadata": {},
   "outputs": [],
   "source": []
  },
  {
   "cell_type": "code",
   "execution_count": 51,
   "metadata": {},
   "outputs": [
    {
     "data": {
      "text/plain": [
       "[]"
      ]
     },
     "execution_count": 51,
     "metadata": {},
     "output_type": "execute_result"
    }
   ],
   "source": [
    "years_scrapped"
   ]
  }
 ],
 "metadata": {
  "interpreter": {
   "hash": "cd890fa09a847fa95f9cae6cbbc81e5af14a0981a0ac795f637bf3b4a38e56d0"
  },
  "kernelspec": {
   "display_name": "Python 3.7.11 64-bit ('csgo': conda)",
   "name": "python3"
  },
  "language_info": {
   "codemirror_mode": {
    "name": "ipython",
    "version": 3
   },
   "file_extension": ".py",
   "mimetype": "text/x-python",
   "name": "python",
   "nbconvert_exporter": "python",
   "pygments_lexer": "ipython3",
   "version": "3.7.11"
  },
  "orig_nbformat": 4
 },
 "nbformat": 4,
 "nbformat_minor": 2
}
