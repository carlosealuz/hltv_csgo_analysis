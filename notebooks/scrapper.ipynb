{
 "cells": [
  {
   "cell_type": "code",
   "execution_count": 1,
   "metadata": {},
   "outputs": [],
   "source": [
    "import json\n",
    "from selenium import webdriver\n",
    "from selenium.webdriver.common.keys import Keys\n",
    "from selenium.webdriver.common.by import By\n",
    "from selenium.common.exceptions import StaleElementReferenceException\n",
    "import pandas as pd\n",
    "import time"
   ]
  },
  {
   "cell_type": "code",
   "execution_count": 2,
   "metadata": {},
   "outputs": [
    {
     "name": "stderr",
     "output_type": "stream",
     "text": [
      "C:\\Users\\Carlos\\anaconda3\\envs\\csgo\\lib\\site-packages\\ipykernel_launcher.py:1: DeprecationWarning: executable_path has been deprecated, please pass in a Service object\n",
      "  \"\"\"Entry point for launching an IPython kernel.\n"
     ]
    }
   ],
   "source": [
    "\n",
    "driver = webdriver.Chrome(executable_path='../chromedriver/chromedriver.exe')\n",
    "driver.get('https://www.hltv.org/ranking/teams/')"
   ]
  },
  {
   "cell_type": "code",
   "execution_count": 4,
   "metadata": {},
   "outputs": [
    {
     "name": "stdout",
     "output_type": "stream",
     "text": [
      "Scrapping 2021-November\n",
      "Scrapping 2021-October\n",
      "Scrapping 2021-September\n",
      "Scrapping 2021-August\n",
      "Scrapping 2021-July\n",
      "Scrapping 2021-June\n",
      "Scrapping 2021-May\n",
      "Scrapping 2021-April\n",
      "Scrapping 2021-March\n",
      "Scrapping 2021-February\n",
      "Scrapping 2021-January\n",
      "Scrapping 2020-December\n",
      "Scrapping 2020-November\n",
      "Scrapping 2020-October\n",
      "Scrapping 2020-September\n",
      "Scrapping 2020-August\n",
      "Scrapping 2020-July\n",
      "Scrapping 2020-June\n",
      "Scrapping 2020-May\n",
      "Scrapping 2020-April\n",
      "Scrapping 2020-March\n",
      "Scrapping 2020-February\n",
      "Scrapping 2020-January\n",
      "Scrapping 2019-December\n",
      "Scrapping 2019-November\n",
      "Scrapping 2019-October\n",
      "Scrapping 2019-September\n",
      "Scrapping 2019-August\n",
      "Scrapping 2019-July\n",
      "Scrapping 2019-June\n",
      "Scrapping 2019-May\n",
      "Scrapping 2019-April\n",
      "Scrapping 2019-March\n",
      "Scrapping 2019-February\n",
      "Scrapping 2019-January\n",
      "Scrapping 2018-December\n",
      "Scrapping 2018-November\n",
      "Scrapping 2018-October\n",
      "Scrapping 2018-September\n",
      "Scrapping 2018-August\n",
      "Scrapping 2018-July\n",
      "Scrapping 2018-June\n",
      "Scrapping 2018-May\n",
      "Scrapping 2018-April\n",
      "Scrapping 2018-March\n",
      "Scrapping 2018-February\n",
      "Scrapping 2018-January\n",
      "Scrapping 2017-December\n",
      "Scrapping 2017-November\n",
      "Scrapping 2017-October\n",
      "Scrapping 2017-September\n",
      "Scrapping 2017-August\n",
      "Scrapping 2017-July\n",
      "Scrapping 2017-June\n",
      "Scrapping 2017-May\n",
      "Scrapping 2017-April\n",
      "Scrapping 2017-March\n",
      "Scrapping 2017-February\n",
      "Scrapping 2017-January\n",
      "Scrapping 2016-December\n",
      "Scrapping 2016-November\n",
      "Scrapping 2016-October\n",
      "Scrapping 2016-September\n",
      "Scrapping 2016-August\n",
      "Scrapping 2016-July\n",
      "Scrapping 2016-June\n",
      "Scrapping 2016-May\n",
      "Scrapping 2016-April\n"
     ]
    },
    {
     "ename": "StaleElementReferenceException",
     "evalue": "Message: stale element reference: element is not attached to the page document\n  (Session info: chrome=95.0.4638.69)\nStacktrace:\nBacktrace:\n\tOrdinal0 [0x00F606F3+2492147]\n\tOrdinal0 [0x00EF9BD1+2071505]\n\tOrdinal0 [0x00E02478+1057912]\n\tOrdinal0 [0x00E04BA4+1067940]\n\tOrdinal0 [0x00E04A6E+1067630]\n\tOrdinal0 [0x00E04CD0+1068240]\n\tOrdinal0 [0x00E2E0FC+1237244]\n\tOrdinal0 [0x00E23573+1193331]\n\tOrdinal0 [0x00E457C3+1333187]\n\tOrdinal0 [0x00E23466+1193062]\n\tOrdinal0 [0x00E458AA+1333418]\n\tOrdinal0 [0x00E54F38+1396536]\n\tOrdinal0 [0x00E4568B+1332875]\n\tOrdinal0 [0x00E221D4+1188308]\n\tOrdinal0 [0x00E2302F+1191983]\n\tGetHandleVerifier [0x010E67A6+1545030]\n\tGetHandleVerifier [0x0119105C+2243580]\n\tGetHandleVerifier [0x00FEBC97+518199]\n\tGetHandleVerifier [0x00FEAD80+514336]\n\tOrdinal0 [0x00EFED2D+2092333]\n\tOrdinal0 [0x00F02EE8+2109160]\n\tOrdinal0 [0x00F03022+2109474]\n\tOrdinal0 [0x00F0CB71+2149233]\n\tBaseThreadInitThunk [0x7565FA29+25]\n\tRtlGetAppContainerNamedObjectPath [0x76F77A9E+286]\n\tRtlGetAppContainerNamedObjectPath [0x76F77A6E+238]\n",
     "output_type": "error",
     "traceback": [
      "\u001b[1;31m---------------------------------------------------------------------------\u001b[0m",
      "\u001b[1;31mStaleElementReferenceException\u001b[0m            Traceback (most recent call last)",
      "\u001b[1;32m~\\AppData\\Local\\Temp/ipykernel_1560/643332419.py\u001b[0m in \u001b[0;36m<module>\u001b[1;34m\u001b[0m\n\u001b[0;32m     11\u001b[0m             \u001b[0mprint\u001b[0m\u001b[1;33m(\u001b[0m\u001b[1;34m'Scrapping {}-{}'\u001b[0m\u001b[1;33m.\u001b[0m\u001b[0mformat\u001b[0m\u001b[1;33m(\u001b[0m\u001b[0myear\u001b[0m\u001b[1;33m,\u001b[0m \u001b[0mmonth\u001b[0m\u001b[1;33m)\u001b[0m\u001b[1;33m)\u001b[0m\u001b[1;33m\u001b[0m\u001b[1;33m\u001b[0m\u001b[0m\n\u001b[0;32m     12\u001b[0m             \u001b[0mmonths_scrapped\u001b[0m\u001b[1;33m.\u001b[0m\u001b[0mappend\u001b[0m\u001b[1;33m(\u001b[0m\u001b[0mmonth\u001b[0m\u001b[1;33m)\u001b[0m\u001b[1;33m\u001b[0m\u001b[1;33m\u001b[0m\u001b[0m\n\u001b[1;32m---> 13\u001b[1;33m             \u001b[0mdriver\u001b[0m\u001b[1;33m.\u001b[0m\u001b[0mfind_element\u001b[0m\u001b[1;33m(\u001b[0m\u001b[0mBy\u001b[0m\u001b[1;33m.\u001b[0m\u001b[0mPARTIAL_LINK_TEXT\u001b[0m\u001b[1;33m,\u001b[0m \u001b[0mmonth\u001b[0m\u001b[1;33m)\u001b[0m\u001b[1;33m.\u001b[0m\u001b[0mclick\u001b[0m\u001b[1;33m(\u001b[0m\u001b[1;33m)\u001b[0m\u001b[1;33m\u001b[0m\u001b[1;33m\u001b[0m\u001b[0m\n\u001b[0m\u001b[0;32m     14\u001b[0m             \u001b[0mtime\u001b[0m\u001b[1;33m.\u001b[0m\u001b[0msleep\u001b[0m\u001b[1;33m(\u001b[0m\u001b[1;36m2\u001b[0m\u001b[1;33m)\u001b[0m\u001b[1;33m\u001b[0m\u001b[1;33m\u001b[0m\u001b[0m\n\u001b[0;32m     15\u001b[0m             \u001b[0mdriver\u001b[0m\u001b[1;33m.\u001b[0m\u001b[0mfind_element\u001b[0m\u001b[1;33m(\u001b[0m\u001b[0mBy\u001b[0m\u001b[1;33m.\u001b[0m\u001b[0mCLASS_NAME\u001b[0m\u001b[1;33m,\u001b[0m \u001b[1;34m'ranking-header'\u001b[0m\u001b[1;33m)\u001b[0m\u001b[1;33m.\u001b[0m\u001b[0mclick\u001b[0m\u001b[1;33m(\u001b[0m\u001b[1;33m)\u001b[0m\u001b[1;33m\u001b[0m\u001b[1;33m\u001b[0m\u001b[0m\n",
      "\u001b[1;32m~\\anaconda3\\envs\\csgo\\lib\\site-packages\\selenium\\webdriver\\remote\\webelement.py\u001b[0m in \u001b[0;36mclick\u001b[1;34m(self)\u001b[0m\n\u001b[0;32m     78\u001b[0m     \u001b[1;32mdef\u001b[0m \u001b[0mclick\u001b[0m\u001b[1;33m(\u001b[0m\u001b[0mself\u001b[0m\u001b[1;33m)\u001b[0m \u001b[1;33m->\u001b[0m \u001b[1;32mNone\u001b[0m\u001b[1;33m:\u001b[0m\u001b[1;33m\u001b[0m\u001b[1;33m\u001b[0m\u001b[0m\n\u001b[0;32m     79\u001b[0m         \u001b[1;34m\"\"\"Clicks the element.\"\"\"\u001b[0m\u001b[1;33m\u001b[0m\u001b[1;33m\u001b[0m\u001b[0m\n\u001b[1;32m---> 80\u001b[1;33m         \u001b[0mself\u001b[0m\u001b[1;33m.\u001b[0m\u001b[0m_execute\u001b[0m\u001b[1;33m(\u001b[0m\u001b[0mCommand\u001b[0m\u001b[1;33m.\u001b[0m\u001b[0mCLICK_ELEMENT\u001b[0m\u001b[1;33m)\u001b[0m\u001b[1;33m\u001b[0m\u001b[1;33m\u001b[0m\u001b[0m\n\u001b[0m\u001b[0;32m     81\u001b[0m \u001b[1;33m\u001b[0m\u001b[0m\n\u001b[0;32m     82\u001b[0m     \u001b[1;32mdef\u001b[0m \u001b[0msubmit\u001b[0m\u001b[1;33m(\u001b[0m\u001b[0mself\u001b[0m\u001b[1;33m)\u001b[0m\u001b[1;33m:\u001b[0m\u001b[1;33m\u001b[0m\u001b[1;33m\u001b[0m\u001b[0m\n",
      "\u001b[1;32m~\\anaconda3\\envs\\csgo\\lib\\site-packages\\selenium\\webdriver\\remote\\webelement.py\u001b[0m in \u001b[0;36m_execute\u001b[1;34m(self, command, params)\u001b[0m\n\u001b[0;32m    691\u001b[0m             \u001b[0mparams\u001b[0m \u001b[1;33m=\u001b[0m \u001b[1;33m{\u001b[0m\u001b[1;33m}\u001b[0m\u001b[1;33m\u001b[0m\u001b[1;33m\u001b[0m\u001b[0m\n\u001b[0;32m    692\u001b[0m         \u001b[0mparams\u001b[0m\u001b[1;33m[\u001b[0m\u001b[1;34m'id'\u001b[0m\u001b[1;33m]\u001b[0m \u001b[1;33m=\u001b[0m \u001b[0mself\u001b[0m\u001b[1;33m.\u001b[0m\u001b[0m_id\u001b[0m\u001b[1;33m\u001b[0m\u001b[1;33m\u001b[0m\u001b[0m\n\u001b[1;32m--> 693\u001b[1;33m         \u001b[1;32mreturn\u001b[0m \u001b[0mself\u001b[0m\u001b[1;33m.\u001b[0m\u001b[0m_parent\u001b[0m\u001b[1;33m.\u001b[0m\u001b[0mexecute\u001b[0m\u001b[1;33m(\u001b[0m\u001b[0mcommand\u001b[0m\u001b[1;33m,\u001b[0m \u001b[0mparams\u001b[0m\u001b[1;33m)\u001b[0m\u001b[1;33m\u001b[0m\u001b[1;33m\u001b[0m\u001b[0m\n\u001b[0m\u001b[0;32m    694\u001b[0m \u001b[1;33m\u001b[0m\u001b[0m\n\u001b[0;32m    695\u001b[0m     \u001b[1;32mdef\u001b[0m \u001b[0mfind_element\u001b[0m\u001b[1;33m(\u001b[0m\u001b[0mself\u001b[0m\u001b[1;33m,\u001b[0m \u001b[0mby\u001b[0m\u001b[1;33m=\u001b[0m\u001b[0mBy\u001b[0m\u001b[1;33m.\u001b[0m\u001b[0mID\u001b[0m\u001b[1;33m,\u001b[0m \u001b[0mvalue\u001b[0m\u001b[1;33m=\u001b[0m\u001b[1;32mNone\u001b[0m\u001b[1;33m)\u001b[0m\u001b[1;33m:\u001b[0m\u001b[1;33m\u001b[0m\u001b[1;33m\u001b[0m\u001b[0m\n",
      "\u001b[1;32m~\\anaconda3\\envs\\csgo\\lib\\site-packages\\selenium\\webdriver\\remote\\webdriver.py\u001b[0m in \u001b[0;36mexecute\u001b[1;34m(self, driver_command, params)\u001b[0m\n\u001b[0;32m    416\u001b[0m         \u001b[0mresponse\u001b[0m \u001b[1;33m=\u001b[0m \u001b[0mself\u001b[0m\u001b[1;33m.\u001b[0m\u001b[0mcommand_executor\u001b[0m\u001b[1;33m.\u001b[0m\u001b[0mexecute\u001b[0m\u001b[1;33m(\u001b[0m\u001b[0mdriver_command\u001b[0m\u001b[1;33m,\u001b[0m \u001b[0mparams\u001b[0m\u001b[1;33m)\u001b[0m\u001b[1;33m\u001b[0m\u001b[1;33m\u001b[0m\u001b[0m\n\u001b[0;32m    417\u001b[0m         \u001b[1;32mif\u001b[0m \u001b[0mresponse\u001b[0m\u001b[1;33m:\u001b[0m\u001b[1;33m\u001b[0m\u001b[1;33m\u001b[0m\u001b[0m\n\u001b[1;32m--> 418\u001b[1;33m             \u001b[0mself\u001b[0m\u001b[1;33m.\u001b[0m\u001b[0merror_handler\u001b[0m\u001b[1;33m.\u001b[0m\u001b[0mcheck_response\u001b[0m\u001b[1;33m(\u001b[0m\u001b[0mresponse\u001b[0m\u001b[1;33m)\u001b[0m\u001b[1;33m\u001b[0m\u001b[1;33m\u001b[0m\u001b[0m\n\u001b[0m\u001b[0;32m    419\u001b[0m             response['value'] = self._unwrap_value(\n\u001b[0;32m    420\u001b[0m                 response.get('value', None))\n",
      "\u001b[1;32m~\\anaconda3\\envs\\csgo\\lib\\site-packages\\selenium\\webdriver\\remote\\errorhandler.py\u001b[0m in \u001b[0;36mcheck_response\u001b[1;34m(self, response)\u001b[0m\n\u001b[0;32m    241\u001b[0m                 \u001b[0malert_text\u001b[0m \u001b[1;33m=\u001b[0m \u001b[0mvalue\u001b[0m\u001b[1;33m[\u001b[0m\u001b[1;34m'alert'\u001b[0m\u001b[1;33m]\u001b[0m\u001b[1;33m.\u001b[0m\u001b[0mget\u001b[0m\u001b[1;33m(\u001b[0m\u001b[1;34m'text'\u001b[0m\u001b[1;33m)\u001b[0m\u001b[1;33m\u001b[0m\u001b[1;33m\u001b[0m\u001b[0m\n\u001b[0;32m    242\u001b[0m             \u001b[1;32mraise\u001b[0m \u001b[0mexception_class\u001b[0m\u001b[1;33m(\u001b[0m\u001b[0mmessage\u001b[0m\u001b[1;33m,\u001b[0m \u001b[0mscreen\u001b[0m\u001b[1;33m,\u001b[0m \u001b[0mstacktrace\u001b[0m\u001b[1;33m,\u001b[0m \u001b[0malert_text\u001b[0m\u001b[1;33m)\u001b[0m  \u001b[1;31m# type: ignore[call-arg]  # mypy is not smart enough here\u001b[0m\u001b[1;33m\u001b[0m\u001b[1;33m\u001b[0m\u001b[0m\n\u001b[1;32m--> 243\u001b[1;33m         \u001b[1;32mraise\u001b[0m \u001b[0mexception_class\u001b[0m\u001b[1;33m(\u001b[0m\u001b[0mmessage\u001b[0m\u001b[1;33m,\u001b[0m \u001b[0mscreen\u001b[0m\u001b[1;33m,\u001b[0m \u001b[0mstacktrace\u001b[0m\u001b[1;33m)\u001b[0m\u001b[1;33m\u001b[0m\u001b[1;33m\u001b[0m\u001b[0m\n\u001b[0m\u001b[0;32m    244\u001b[0m \u001b[1;33m\u001b[0m\u001b[0m\n\u001b[0;32m    245\u001b[0m     \u001b[1;32mdef\u001b[0m \u001b[0m_value_or_default\u001b[0m\u001b[1;33m(\u001b[0m\u001b[0mself\u001b[0m\u001b[1;33m,\u001b[0m \u001b[0mobj\u001b[0m\u001b[1;33m:\u001b[0m \u001b[0mMapping\u001b[0m\u001b[1;33m[\u001b[0m\u001b[0m_KT\u001b[0m\u001b[1;33m,\u001b[0m \u001b[0m_VT\u001b[0m\u001b[1;33m]\u001b[0m\u001b[1;33m,\u001b[0m \u001b[0mkey\u001b[0m\u001b[1;33m:\u001b[0m \u001b[0m_KT\u001b[0m\u001b[1;33m,\u001b[0m \u001b[0mdefault\u001b[0m\u001b[1;33m:\u001b[0m \u001b[0m_VT\u001b[0m\u001b[1;33m)\u001b[0m \u001b[1;33m->\u001b[0m \u001b[0m_VT\u001b[0m\u001b[1;33m:\u001b[0m\u001b[1;33m\u001b[0m\u001b[1;33m\u001b[0m\u001b[0m\n",
      "\u001b[1;31mStaleElementReferenceException\u001b[0m: Message: stale element reference: element is not attached to the page document\n  (Session info: chrome=95.0.4638.69)\nStacktrace:\nBacktrace:\n\tOrdinal0 [0x00F606F3+2492147]\n\tOrdinal0 [0x00EF9BD1+2071505]\n\tOrdinal0 [0x00E02478+1057912]\n\tOrdinal0 [0x00E04BA4+1067940]\n\tOrdinal0 [0x00E04A6E+1067630]\n\tOrdinal0 [0x00E04CD0+1068240]\n\tOrdinal0 [0x00E2E0FC+1237244]\n\tOrdinal0 [0x00E23573+1193331]\n\tOrdinal0 [0x00E457C3+1333187]\n\tOrdinal0 [0x00E23466+1193062]\n\tOrdinal0 [0x00E458AA+1333418]\n\tOrdinal0 [0x00E54F38+1396536]\n\tOrdinal0 [0x00E4568B+1332875]\n\tOrdinal0 [0x00E221D4+1188308]\n\tOrdinal0 [0x00E2302F+1191983]\n\tGetHandleVerifier [0x010E67A6+1545030]\n\tGetHandleVerifier [0x0119105C+2243580]\n\tGetHandleVerifier [0x00FEBC97+518199]\n\tGetHandleVerifier [0x00FEAD80+514336]\n\tOrdinal0 [0x00EFED2D+2092333]\n\tOrdinal0 [0x00F02EE8+2109160]\n\tOrdinal0 [0x00F03022+2109474]\n\tOrdinal0 [0x00F0CB71+2149233]\n\tBaseThreadInitThunk [0x7565FA29+25]\n\tRtlGetAppContainerNamedObjectPath [0x76F77A9E+286]\n\tRtlGetAppContainerNamedObjectPath [0x76F77A6E+238]\n"
     ]
    }
   ],
   "source": [
    "years = driver.find_elements(By.CLASS_NAME,'filter-column-content  ')[0].text.split('\\n')\n",
    "\n",
    "full_data = []\n",
    "df = pd.DataFrame(columns=['Date', 'Position', 'Teams', 'Players'])\n",
    "for year in years:\n",
    "    driver.find_element(By.PARTIAL_LINK_TEXT, year).click()\n",
    "    months = driver.find_elements(By.CLASS_NAME,'filter-column-content  ')[1].text.split('\\n')\n",
    "    months_scrapped = []\n",
    "    for month in months:\n",
    "        if month in months and month not in months_scrapped:\n",
    "            print('Scrapping {}-{}'.format(year, month))\n",
    "            months_scrapped.append(month)\n",
    "            driver.find_element(By.PARTIAL_LINK_TEXT, month).click()\n",
    "            time.sleep(2)\n",
    "            driver.find_element(By.CLASS_NAME, 'ranking-header').click()\n",
    "            ranking = driver.find_element(By.CLASS_NAME,'ranking').text.split('\\n')\n",
    "            ranking_date = [ranking[1]]\n",
    "            positions = []\n",
    "            teams = []\n",
    "            players = []\n",
    "\n",
    "            for i in ranking:\n",
    "                if i.startswith('#'):\n",
    "                    item_index = ranking.index(i)\n",
    "                    positions.append(i)\n",
    "                    teams.append(ranking[item_index+1])\n",
    "                    players.append(ranking[item_index+2])\n",
    "            month_df = pd.DataFrame([ranking_date * len(teams), positions, teams, players]).T\n",
    "            month_df.columns = ['Date', 'Position', 'Teams', 'Players']\n",
    "        df = pd.concat([df, month_df])\n",
    "\n",
    "df.to_csv('../data/ranking_raw.csv', index=False)\n"
   ]
  },
  {
   "cell_type": "code",
   "execution_count": 16,
   "metadata": {},
   "outputs": [],
   "source": [
    "pd.DataFrame(df['Teams'].str.split('(').str[0].unique().tolist()).to_csv('../data/teste.csv')"
   ]
  },
  {
   "cell_type": "code",
   "execution_count": 22,
   "metadata": {},
   "outputs": [
    {
     "data": {
      "text/plain": [
       "Index(['Unnamed: 0', '0', '1'], dtype='object')"
      ]
     },
     "execution_count": 22,
     "metadata": {},
     "output_type": "execute_result"
    }
   ],
   "source": [
    "teams_id.columns"
   ]
  },
  {
   "cell_type": "code",
   "execution_count": 24,
   "metadata": {},
   "outputs": [],
   "source": [
    "teams_id = pd.read_csv('../data/teste.csv')\n",
    "teams_id.dropna(axis=0, inplace=True)\n",
    "teams_id['1'] = teams_id['1'].astype(int).astype(str)"
   ]
  },
  {
   "cell_type": "code",
   "execution_count": 27,
   "metadata": {},
   "outputs": [],
   "source": [
    "url_matches = 'https://www.hltv.org/results?'\n",
    "ids = teams_id['1'].tolist()\n",
    "for i in ids:\n",
    "    url_matches = url_matches + 'team={}&'.format(i)\n",
    "\n",
    "driver.get(url_matches)"
   ]
  },
  {
   "cell_type": "code",
   "execution_count": null,
   "metadata": {},
   "outputs": [],
   "source": []
  }
 ],
 "metadata": {
  "interpreter": {
   "hash": "cd890fa09a847fa95f9cae6cbbc81e5af14a0981a0ac795f637bf3b4a38e56d0"
  },
  "kernelspec": {
   "display_name": "Python 3.7.11 64-bit ('csgo': conda)",
   "name": "python3"
  },
  "language_info": {
   "codemirror_mode": {
    "name": "ipython",
    "version": 3
   },
   "file_extension": ".py",
   "mimetype": "text/x-python",
   "name": "python",
   "nbconvert_exporter": "python",
   "pygments_lexer": "ipython3",
   "version": "3.7.11"
  },
  "orig_nbformat": 4
 },
 "nbformat": 4,
 "nbformat_minor": 2
}
